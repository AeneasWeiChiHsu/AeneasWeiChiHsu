{
  "nbformat": 4,
  "nbformat_minor": 0,
  "metadata": {
    "colab": {
      "provenance": [],
      "machine_shape": "hm",
      "gpuType": "A100",
      "authorship_tag": "ABX9TyNkIt+CJ5E8k/ZPucIhtYfJ",
      "include_colab_link": true
    },
    "kernelspec": {
      "name": "python3",
      "display_name": "Python 3"
    },
    "language_info": {
      "name": "python"
    },
    "accelerator": "GPU"
  },
  "cells": [
    {
      "cell_type": "markdown",
      "metadata": {
        "id": "view-in-github",
        "colab_type": "text"
      },
      "source": [
        "<a href=\"https://colab.research.google.com/github/AeneasWeiChiHsu/AeneasWeiChiHsu/blob/main/Stable_Diffusion_Free_Image_Generator.ipynb\" target=\"_parent\"><img src=\"https://colab.research.google.com/assets/colab-badge.svg\" alt=\"Open In Colab\"/></a>"
      ]
    },
    {
      "cell_type": "markdown",
      "source": [
        "# Stable Diffusion from TensorFlow\n",
        "This note is based on [High-performance image generation using Stable Diffusion in KerasCV](https://www.tensorflow.org/tutorials/generative/generate_images_with_stable_diffusion), an official tutorial.\n",
        "\n",
        "**Unfortunately**, that notebook has gone.\n",
        "\n",
        "官方版本的 Colab Notebook 沒了。現在這邊另外一個做法。\n",
        "基本上這是一個免費的圖片生成器，但是你得自己用GPU跑。\n",
        "\n",
        "注意：記得打開GPU。沒有GPU會報錯。\n",
        "\n",
        "如果你願意等的話你可以自己產生一堆圖。"
      ],
      "metadata": {
        "id": "4luhUpiDL6KN"
      }
    },
    {
      "cell_type": "code",
      "source": [
        "# 安裝匹配版本的套件（這很重要！）\n",
        "!pip install -q keras-cv==0.6.1 keras-core tensorflow==2.14.0 tensorflow-text\n",
        "\n",
        "# 載入套件\n",
        "import keras_cv\n",
        "from matplotlib import pyplot as plt\n",
        "\n",
        "# 建立模型（img_width / img_height 一定要是 64 的倍數）\n",
        "model = keras_cv.models.StableDiffusion(img_width=512, img_height=512)\n",
        "model._num_steps = 50 # 控制要跑幾步（default = 50）\n",
        "model._cfg_scale = 7.5 # 控制遵守promt的程度（1.0～15.0）\n",
        "\n",
        "# 如果要讓model自己每次都出圖一樣的話，下面可以打開\n",
        "# 但是這樣很沒有驚喜感\n",
        "#model._seed_generator = keras_cv.models.stable_diffusion.utils.RandomGenerator(seed=42)\n",
        "\n",
        "# 輸入文字 prompt\n",
        "# 測試用文字！\n",
        "prompt = \"a cyberpunk astronaut in a R/L suit, digital art, 4K\"\n",
        "\n",
        "# 生成圖像（最多一次生成 4 張）\n",
        "# 調控 batch size = 1～4\n",
        "images = model.text_to_image(prompt, batch_size=1)\n",
        "\n",
        "# 顯示圖像\n",
        "plt.imshow(images[0])\n",
        "plt.axis(\"off\")\n",
        "plt.show()"
      ],
      "metadata": {
        "id": "gqtm8z3TJf-R"
      },
      "execution_count": null,
      "outputs": []
    },
    {
      "cell_type": "code",
      "source": [
        "images = model.text_to_image(\"Example Prompt!\", batch_size=3)\n",
        "\n",
        "\n",
        "def plot_images(images):\n",
        "    plt.figure(figsize=(20, 20))\n",
        "    for i in range(len(images)):\n",
        "        ax = plt.subplot(1, len(images), i + 1)\n",
        "        plt.imshow(images[i])\n",
        "        plt.axis(\"off\")\n",
        "\n",
        "\n",
        "plot_images(images)"
      ],
      "metadata": {
        "id": "DoxK_RGzJl53"
      },
      "execution_count": null,
      "outputs": []
    },
    {
      "cell_type": "code",
      "source": [],
      "metadata": {
        "id": "lRbzqbH4Jvv3"
      },
      "execution_count": null,
      "outputs": []
    }
  ]
}