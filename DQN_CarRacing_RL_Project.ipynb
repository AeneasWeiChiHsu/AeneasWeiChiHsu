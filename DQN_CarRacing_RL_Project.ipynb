{
  "nbformat": 4,
  "nbformat_minor": 0,
  "metadata": {
    "colab": {
      "provenance": [],
      "machine_shape": "hm",
      "gpuType": "A100",
      "authorship_tag": "ABX9TyNBszry/A6+ros7GYOQl2P9",
      "include_colab_link": true
    },
    "kernelspec": {
      "name": "python3",
      "display_name": "Python 3"
    },
    "language_info": {
      "name": "python"
    },
    "accelerator": "GPU"
  },
  "cells": [
    {
      "cell_type": "markdown",
      "metadata": {
        "id": "view-in-github",
        "colab_type": "text"
      },
      "source": [
        "<a href=\"https://colab.research.google.com/github/AeneasWeiChiHsu/AeneasWeiChiHsu/blob/main/DQN_CarRacing_RL_Project.ipynb\" target=\"_parent\"><img src=\"https://colab.research.google.com/assets/colab-badge.svg\" alt=\"Open In Colab\"/></a>"
      ]
    },
    {
      "cell_type": "markdown",
      "source": [
        "# Introduction\n",
        "\n",
        "> 因為我不會開車，所以我決定訓練一個Agent來開車。\n",
        "\n",
        "本集特別感謝：IBM 在 Coursera 上的線上課程 [Deep Learning with Keras and TensorFlow](https://www.coursera.org/learn/building-deep-learning-models-with-tensorflow/home)\n",
        "\n",
        "詳細內容請參考：[Building a Deep Q-Network with Keras](https://www.coursera.org/learn/building-deep-learning-models-with-tensorflow/ungradedLti/AlszB/lab-building-a-deep-q-network-with-keras)\n",
        "\n",
        "本集特別感謝：University of Alberta 在 Coursera 上的線上課程 [Fundamentals of Reinforcement Learning](https://www.coursera.org/learn/fundamentals-of-reinforcement-learning/home)\n"
      ],
      "metadata": {
        "id": "bWczEXUs-bYo"
      }
    },
    {
      "cell_type": "markdown",
      "source": [
        "# Goal: Deep Q-Network with Keras\n",
        "\n",
        "故事是這樣的，我之前上過一門課，叫做《控制理論》，但是內容都是在講 Reinforcement Learning。\n",
        "不過那個時候我什麼都不懂，只是想要做完期末專題：CarRacing。\n",
        "所以我在Github上面看到有人 share 了一段 DualDQN 的code，我覺得很棒，我就拿來改。\n",
        "最後那個不是我的 Agent 幫我完成了我的 Final Project。\n",
        "不過那段 Code 是用 pytorch 寫的。但是基於某些理由我不喜歡 pytorch。\n",
        "現在我要做這個 Project。"
      ],
      "metadata": {
        "id": "xPZEpyZnActC"
      }
    },
    {
      "cell_type": "markdown",
      "source": [
        "## Box2D\n",
        "\n",
        "請參考 OpenAI gymnasium 的說明來安裝相對應的東西\n",
        "https://gymnasium.farama.org/environments/box2d/"
      ],
      "metadata": {
        "id": "0gU12oLKksZt"
      }
    },
    {
      "cell_type": "code",
      "execution_count": 1,
      "metadata": {
        "colab": {
          "base_uri": "https://localhost:8080/"
        },
        "id": "Wv-J6unL-UAN",
        "outputId": "8fecd170-c0c1-486f-ddf4-651963a5aed7"
      },
      "outputs": [
        {
          "output_type": "stream",
          "name": "stdout",
          "text": [
            "Requirement already satisfied: gymnasium in /usr/local/lib/python3.11/dist-packages (1.1.1)\n",
            "Requirement already satisfied: numpy>=1.21.0 in /usr/local/lib/python3.11/dist-packages (from gymnasium) (2.0.2)\n",
            "Requirement already satisfied: cloudpickle>=1.2.0 in /usr/local/lib/python3.11/dist-packages (from gymnasium) (3.1.1)\n",
            "Requirement already satisfied: typing-extensions>=4.3.0 in /usr/local/lib/python3.11/dist-packages (from gymnasium) (4.13.2)\n",
            "Requirement already satisfied: farama-notifications>=0.0.1 in /usr/local/lib/python3.11/dist-packages (from gymnasium) (0.0.4)\n",
            "Collecting swig\n",
            "  Downloading swig-4.3.1-py3-none-manylinux_2_12_x86_64.manylinux2010_x86_64.whl.metadata (3.5 kB)\n",
            "Downloading swig-4.3.1-py3-none-manylinux_2_12_x86_64.manylinux2010_x86_64.whl (1.9 MB)\n",
            "\u001b[2K   \u001b[90m━━━━━━━━━━━━━━━━━━━━━━━━━━━━━━━━━━━━━━━━\u001b[0m \u001b[32m1.9/1.9 MB\u001b[0m \u001b[31m80.1 MB/s\u001b[0m eta \u001b[36m0:00:00\u001b[0m\n",
            "\u001b[?25hInstalling collected packages: swig\n",
            "Successfully installed swig-4.3.1\n",
            "Requirement already satisfied: gymnasium[box2d] in /usr/local/lib/python3.11/dist-packages (1.1.1)\n",
            "Requirement already satisfied: numpy>=1.21.0 in /usr/local/lib/python3.11/dist-packages (from gymnasium[box2d]) (2.0.2)\n",
            "Requirement already satisfied: cloudpickle>=1.2.0 in /usr/local/lib/python3.11/dist-packages (from gymnasium[box2d]) (3.1.1)\n",
            "Requirement already satisfied: typing-extensions>=4.3.0 in /usr/local/lib/python3.11/dist-packages (from gymnasium[box2d]) (4.13.2)\n",
            "Requirement already satisfied: farama-notifications>=0.0.1 in /usr/local/lib/python3.11/dist-packages (from gymnasium[box2d]) (0.0.4)\n",
            "Collecting box2d-py==2.3.5 (from gymnasium[box2d])\n",
            "  Downloading box2d-py-2.3.5.tar.gz (374 kB)\n",
            "\u001b[2K     \u001b[90m━━━━━━━━━━━━━━━━━━━━━━━━━━━━━━━━━━━━━━\u001b[0m \u001b[32m374.4/374.4 kB\u001b[0m \u001b[31m24.3 MB/s\u001b[0m eta \u001b[36m0:00:00\u001b[0m\n",
            "\u001b[?25h  Preparing metadata (setup.py) ... \u001b[?25l\u001b[?25hdone\n",
            "Requirement already satisfied: pygame>=2.1.3 in /usr/local/lib/python3.11/dist-packages (from gymnasium[box2d]) (2.6.1)\n",
            "Requirement already satisfied: swig==4.* in /usr/local/lib/python3.11/dist-packages (from gymnasium[box2d]) (4.3.1)\n",
            "Building wheels for collected packages: box2d-py\n",
            "  Building wheel for box2d-py (setup.py) ... \u001b[?25l\u001b[?25hdone\n",
            "  Created wheel for box2d-py: filename=box2d_py-2.3.5-cp311-cp311-linux_x86_64.whl size=2379372 sha256=9ad3a0b675d321f4c9ee6729c0a7c5a3afe8b26da17191e5e7e148cdbaecb5e2\n",
            "  Stored in directory: /root/.cache/pip/wheels/ab/f1/0c/d56f4a2bdd12bae0a0693ec33f2f0daadb5eb9753c78fa5308\n",
            "Successfully built box2d-py\n",
            "Installing collected packages: box2d-py\n",
            "Successfully installed box2d-py-2.3.5\n"
          ]
        }
      ],
      "source": [
        "# Instal Gym\n",
        "!pip install gymnasium\n",
        "! pip install swig\n",
        "! pip install gymnasium[box2d]"
      ]
    },
    {
      "cell_type": "code",
      "source": [
        "import gymnasium as gym\n",
        "import numpy as np\n",
        "import matplotlib.pyplot as plt\n",
        "import tensorflow as tf\n",
        "import random\n",
        "from collections import deque\n",
        "from tensorflow.keras.models import Model\n",
        "\n",
        "# ==== Layers ====\n",
        "from tensorflow.keras.layers import Input, InputLayer, Conv2D, Flatten, Dense, Reshape, Conv2DTranspose, LeakyReLU, Dropout, BatchNormalization, ReLU, MaxPooling2D, UpSampling2D, Concatenate, Activation, Lambda, Add, LayerNormalization, LeakyReLU, AveragePooling2D, GlobalAveragePooling2D, GlobalMaxPooling2D, ZeroPadding2D, Cropping2D, ZeroPadding1D, Cropping1D, Layer\n",
        "\n",
        "# ==== Optimizer ====\n",
        "from tensorflow.keras.optimizers import Adam, SGD, RMSprop, Adadelta, Adagrad, Adamax, Nadam, Ftrl\n",
        "\n",
        "# ==== Callbacks ====\n",
        "from tensorflow.keras.callbacks import EarlyStopping"
      ],
      "metadata": {
        "id": "SrGVD9fWBy98"
      },
      "execution_count": 2,
      "outputs": []
    },
    {
      "cell_type": "code",
      "source": [
        "from tqdm import tqdm\n",
        "from tqdm import trange\n",
        "from collections import Counter\n",
        "# ==== Video ====\n",
        "import imageio\n",
        "import os"
      ],
      "metadata": {
        "id": "caWbeMZQHo3s"
      },
      "execution_count": 27,
      "outputs": []
    },
    {
      "cell_type": "markdown",
      "source": [
        "# Environment\n",
        "\n",
        "https://gymnasium.farama.org/environments/box2d/car_racing/\n",
        "\n",
        "Actions = [do nothing, left, right, gas, brake]\n",
        "\n",
        "Observation = **A top-down 96x96 RGB image of the car and race track.**\n"
      ],
      "metadata": {
        "id": "ey0bYCJ_j5tr"
      }
    },
    {
      "cell_type": "code",
      "source": [
        "env = gym.make(\"CarRacing-v3\",\n",
        "               render_mode= None,\n",
        "               lap_complete_percent=0.95,\n",
        "               domain_randomize=False,\n",
        "               continuous=False)\n",
        "\n",
        "env.close()"
      ],
      "metadata": {
        "id": "VS2mmrWhjBf7"
      },
      "execution_count": 29,
      "outputs": []
    },
    {
      "cell_type": "code",
      "source": [
        "# ==== Reproducibility ====\n",
        "np.random.seed(1984)\n",
        "tf.random.set_seed(1984)\n",
        "env.reset(seed = 1984)"
      ],
      "metadata": {
        "colab": {
          "base_uri": "https://localhost:8080/"
        },
        "id": "5kiRyuuZkByx",
        "outputId": "13790578-e448-459d-c65d-a2e1aa7d55d4"
      },
      "execution_count": 20,
      "outputs": [
        {
          "output_type": "execute_result",
          "data": {
            "text/plain": [
              "(array([[[0, 0, 0],\n",
              "         [0, 0, 0],\n",
              "         [0, 0, 0],\n",
              "         ...,\n",
              "         [0, 0, 0],\n",
              "         [0, 0, 0],\n",
              "         [0, 0, 0]],\n",
              " \n",
              "        [[0, 0, 0],\n",
              "         [0, 0, 0],\n",
              "         [0, 0, 0],\n",
              "         ...,\n",
              "         [0, 0, 0],\n",
              "         [0, 0, 0],\n",
              "         [0, 0, 0]],\n",
              " \n",
              "        [[0, 0, 0],\n",
              "         [0, 0, 0],\n",
              "         [0, 0, 0],\n",
              "         ...,\n",
              "         [0, 0, 0],\n",
              "         [0, 0, 0],\n",
              "         [0, 0, 0]],\n",
              " \n",
              "        ...,\n",
              " \n",
              "        [[0, 0, 0],\n",
              "         [0, 0, 0],\n",
              "         [0, 0, 0],\n",
              "         ...,\n",
              "         [0, 0, 0],\n",
              "         [0, 0, 0],\n",
              "         [0, 0, 0]],\n",
              " \n",
              "        [[0, 0, 0],\n",
              "         [0, 0, 0],\n",
              "         [0, 0, 0],\n",
              "         ...,\n",
              "         [0, 0, 0],\n",
              "         [0, 0, 0],\n",
              "         [0, 0, 0]],\n",
              " \n",
              "        [[0, 0, 0],\n",
              "         [0, 0, 0],\n",
              "         [0, 0, 0],\n",
              "         ...,\n",
              "         [0, 0, 0],\n",
              "         [0, 0, 0],\n",
              "         [0, 0, 0]]], dtype=uint8),\n",
              " {})"
            ]
          },
          "metadata": {},
          "execution_count": 20
        }
      ]
    },
    {
      "cell_type": "markdown",
      "source": [
        "# Model"
      ],
      "metadata": {
        "id": "_qnGsGcdpMLE"
      }
    },
    {
      "cell_type": "code",
      "source": [
        "# ==== Build Model ====\n",
        "def build_model (input_shape = (96, 96, 3), action_size = 5):\n",
        "  inputs = Input(shape = input_shape)\n",
        "\n",
        "  # Normalize pixel [0,255] → [0,1]\n",
        "  x = tf.keras.layers.Rescaling(1./255)(inputs)\n",
        "\n",
        "  # ==== Convolution Layers ====\n",
        "  # Don't use BatchNormalization()\n",
        "  x = Conv2D(32, (8, 8), strides=4, activation = None)(x)\n",
        "  x = LeakyReLU()(x)\n",
        "\n",
        "  x = Conv2D(64, (4, 4), strides=2, activation = None)(x)\n",
        "  x = LeakyReLU()(x)\n",
        "\n",
        "  x = Conv2D(64, (3, 3), strides=1, activation = None)(x)\n",
        "  x = LeakyReLU()(x)\n",
        "\n",
        "\n",
        "  # ==== Flaten ====\n",
        "  x = Flatten()(x)\n",
        "\n",
        "  # ==== Deep Layers ====\n",
        "  #x = Dense(512, activation='relu')(x)\n",
        "  #x = Dropout(0.2)(x)\n",
        "\n",
        "  #x = Dense(256, activation='relu')(x)\n",
        "  #x = Dropout(0.2)(x)\n",
        "\n",
        "  #x = Dense(128, activation='relu')(x)\n",
        "\n",
        "  #x = Dense(64, activation='relu')(x)\n",
        "\n",
        "  # ==== Dueling DQN =====\n",
        "  # Two head mechanism\n",
        "  # Advantage Stream\n",
        "  a = Dense(256, activation='relu', name = 'Advantage_Stream_1')(x)\n",
        "  a = Dense(256, activation='relu', name = 'Advantage_Stream_2')(x)\n",
        "  a = Dense(action_size)(a)\n",
        "\n",
        "\n",
        "  # Value Stream\n",
        "  v = Dense(256, activation='relu', name = 'Value_Stream_1')(x)\n",
        "  v = Dense(256, activation='relu', name = 'Value_Stream_2')(x)\n",
        "  v = Dense(1)(v)\n",
        "\n",
        "  # ==== Output ====\n",
        "  # Q-values for each discrete action\n",
        "  # Output: q_values = [[12.3, 11.8, 9.5, 14.2, 13.0]]\n",
        "  # The q_values of each action\n",
        "  # i.e., Q(s, a = 0) = 12.3\n",
        "  # i.e., Q(s, a =1) = 11.8\n",
        "  # outputs = Dense(action_size, activation='linear', name = 'Q-values')(x)\n",
        "\n",
        "  # ==== Dueling DQN Output ====\n",
        "  # Q(s, a) = V(s) + (A(s, a) - mean(A(s, a')))\n",
        "  # V(s) -> (batch_size, 1)\n",
        "  # A(s, a) -> (batch_size, action_size)\n",
        "  outputs = Lambda(lambda x: x[0] + (x[1] - tf.reduce_mean(x[1], axis=1, keepdims=True)))([v, a])\n",
        "\n",
        "  # ==== Model Build ====\n",
        "  model = Model(inputs=inputs, outputs=outputs)\n",
        "  model.compile(optimizer=Adam(learning_rate=0.00025), loss='mse')\n",
        "\n",
        "  return model\n",
        "\n",
        "# ==== Car Racing parameters ====\n",
        "state_size = 96*96*3\n",
        "action_size = 5\n",
        "\n",
        "# ====\n",
        "model = build_model(input_shape = (96, 96, 3), action_size = 5)\n",
        "model.summary()"
      ],
      "metadata": {
        "colab": {
          "base_uri": "https://localhost:8080/",
          "height": 872
        },
        "id": "AoE0FKeMmnmS",
        "outputId": "7c4f6638-6ab1-4bd4-ff63-750ea9821399"
      },
      "execution_count": 57,
      "outputs": [
        {
          "output_type": "display_data",
          "data": {
            "text/plain": [
              "\u001b[1mModel: \"functional_7\"\u001b[0m\n"
            ],
            "text/html": [
              "<pre style=\"white-space:pre;overflow-x:auto;line-height:normal;font-family:Menlo,'DejaVu Sans Mono',consolas,'Courier New',monospace\"><span style=\"font-weight: bold\">Model: \"functional_7\"</span>\n",
              "</pre>\n"
            ]
          },
          "metadata": {}
        },
        {
          "output_type": "display_data",
          "data": {
            "text/plain": [
              "┏━━━━━━━━━━━━━━━━━━━━━┳━━━━━━━━━━━━━━━━━━━┳━━━━━━━━━━━━┳━━━━━━━━━━━━━━━━━━━┓\n",
              "┃\u001b[1m \u001b[0m\u001b[1mLayer (type)       \u001b[0m\u001b[1m \u001b[0m┃\u001b[1m \u001b[0m\u001b[1mOutput Shape     \u001b[0m\u001b[1m \u001b[0m┃\u001b[1m \u001b[0m\u001b[1m   Param #\u001b[0m\u001b[1m \u001b[0m┃\u001b[1m \u001b[0m\u001b[1mConnected to     \u001b[0m\u001b[1m \u001b[0m┃\n",
              "┡━━━━━━━━━━━━━━━━━━━━━╇━━━━━━━━━━━━━━━━━━━╇━━━━━━━━━━━━╇━━━━━━━━━━━━━━━━━━━┩\n",
              "│ input_layer_7       │ (\u001b[38;5;45mNone\u001b[0m, \u001b[38;5;34m96\u001b[0m, \u001b[38;5;34m96\u001b[0m, \u001b[38;5;34m3\u001b[0m) │          \u001b[38;5;34m0\u001b[0m │ -                 │\n",
              "│ (\u001b[38;5;33mInputLayer\u001b[0m)        │                   │            │                   │\n",
              "├─────────────────────┼───────────────────┼────────────┼───────────────────┤\n",
              "│ rescaling_7         │ (\u001b[38;5;45mNone\u001b[0m, \u001b[38;5;34m96\u001b[0m, \u001b[38;5;34m96\u001b[0m, \u001b[38;5;34m3\u001b[0m) │          \u001b[38;5;34m0\u001b[0m │ input_layer_7[\u001b[38;5;34m0\u001b[0m]… │\n",
              "│ (\u001b[38;5;33mRescaling\u001b[0m)         │                   │            │                   │\n",
              "├─────────────────────┼───────────────────┼────────────┼───────────────────┤\n",
              "│ conv2d_21 (\u001b[38;5;33mConv2D\u001b[0m)  │ (\u001b[38;5;45mNone\u001b[0m, \u001b[38;5;34m23\u001b[0m, \u001b[38;5;34m23\u001b[0m,    │      \u001b[38;5;34m6,176\u001b[0m │ rescaling_7[\u001b[38;5;34m0\u001b[0m][\u001b[38;5;34m0\u001b[0m] │\n",
              "│                     │ \u001b[38;5;34m32\u001b[0m)               │            │                   │\n",
              "├─────────────────────┼───────────────────┼────────────┼───────────────────┤\n",
              "│ leaky_re_lu_15      │ (\u001b[38;5;45mNone\u001b[0m, \u001b[38;5;34m23\u001b[0m, \u001b[38;5;34m23\u001b[0m,    │          \u001b[38;5;34m0\u001b[0m │ conv2d_21[\u001b[38;5;34m0\u001b[0m][\u001b[38;5;34m0\u001b[0m]   │\n",
              "│ (\u001b[38;5;33mLeakyReLU\u001b[0m)         │ \u001b[38;5;34m32\u001b[0m)               │            │                   │\n",
              "├─────────────────────┼───────────────────┼────────────┼───────────────────┤\n",
              "│ conv2d_22 (\u001b[38;5;33mConv2D\u001b[0m)  │ (\u001b[38;5;45mNone\u001b[0m, \u001b[38;5;34m10\u001b[0m, \u001b[38;5;34m10\u001b[0m,    │     \u001b[38;5;34m32,832\u001b[0m │ leaky_re_lu_15[\u001b[38;5;34m0\u001b[0m… │\n",
              "│                     │ \u001b[38;5;34m64\u001b[0m)               │            │                   │\n",
              "├─────────────────────┼───────────────────┼────────────┼───────────────────┤\n",
              "│ leaky_re_lu_16      │ (\u001b[38;5;45mNone\u001b[0m, \u001b[38;5;34m10\u001b[0m, \u001b[38;5;34m10\u001b[0m,    │          \u001b[38;5;34m0\u001b[0m │ conv2d_22[\u001b[38;5;34m0\u001b[0m][\u001b[38;5;34m0\u001b[0m]   │\n",
              "│ (\u001b[38;5;33mLeakyReLU\u001b[0m)         │ \u001b[38;5;34m64\u001b[0m)               │            │                   │\n",
              "├─────────────────────┼───────────────────┼────────────┼───────────────────┤\n",
              "│ conv2d_23 (\u001b[38;5;33mConv2D\u001b[0m)  │ (\u001b[38;5;45mNone\u001b[0m, \u001b[38;5;34m8\u001b[0m, \u001b[38;5;34m8\u001b[0m, \u001b[38;5;34m64\u001b[0m)  │     \u001b[38;5;34m36,928\u001b[0m │ leaky_re_lu_16[\u001b[38;5;34m0\u001b[0m… │\n",
              "├─────────────────────┼───────────────────┼────────────┼───────────────────┤\n",
              "│ leaky_re_lu_17      │ (\u001b[38;5;45mNone\u001b[0m, \u001b[38;5;34m8\u001b[0m, \u001b[38;5;34m8\u001b[0m, \u001b[38;5;34m64\u001b[0m)  │          \u001b[38;5;34m0\u001b[0m │ conv2d_23[\u001b[38;5;34m0\u001b[0m][\u001b[38;5;34m0\u001b[0m]   │\n",
              "│ (\u001b[38;5;33mLeakyReLU\u001b[0m)         │                   │            │                   │\n",
              "├─────────────────────┼───────────────────┼────────────┼───────────────────┤\n",
              "│ flatten_7 (\u001b[38;5;33mFlatten\u001b[0m) │ (\u001b[38;5;45mNone\u001b[0m, \u001b[38;5;34m4096\u001b[0m)      │          \u001b[38;5;34m0\u001b[0m │ leaky_re_lu_17[\u001b[38;5;34m0\u001b[0m… │\n",
              "├─────────────────────┼───────────────────┼────────────┼───────────────────┤\n",
              "│ Value_Stream_2      │ (\u001b[38;5;45mNone\u001b[0m, \u001b[38;5;34m256\u001b[0m)       │  \u001b[38;5;34m1,048,832\u001b[0m │ flatten_7[\u001b[38;5;34m0\u001b[0m][\u001b[38;5;34m0\u001b[0m]   │\n",
              "│ (\u001b[38;5;33mDense\u001b[0m)             │                   │            │                   │\n",
              "├─────────────────────┼───────────────────┼────────────┼───────────────────┤\n",
              "│ Advantage_Stream_2  │ (\u001b[38;5;45mNone\u001b[0m, \u001b[38;5;34m256\u001b[0m)       │  \u001b[38;5;34m1,048,832\u001b[0m │ flatten_7[\u001b[38;5;34m0\u001b[0m][\u001b[38;5;34m0\u001b[0m]   │\n",
              "│ (\u001b[38;5;33mDense\u001b[0m)             │                   │            │                   │\n",
              "├─────────────────────┼───────────────────┼────────────┼───────────────────┤\n",
              "│ dense_44 (\u001b[38;5;33mDense\u001b[0m)    │ (\u001b[38;5;45mNone\u001b[0m, \u001b[38;5;34m1\u001b[0m)         │        \u001b[38;5;34m257\u001b[0m │ Value_Stream_2[\u001b[38;5;34m0\u001b[0m… │\n",
              "├─────────────────────┼───────────────────┼────────────┼───────────────────┤\n",
              "│ dense_43 (\u001b[38;5;33mDense\u001b[0m)    │ (\u001b[38;5;45mNone\u001b[0m, \u001b[38;5;34m5\u001b[0m)         │      \u001b[38;5;34m1,285\u001b[0m │ Advantage_Stream… │\n",
              "├─────────────────────┼───────────────────┼────────────┼───────────────────┤\n",
              "│ lambda_5 (\u001b[38;5;33mLambda\u001b[0m)   │ (\u001b[38;5;45mNone\u001b[0m, \u001b[38;5;34m5\u001b[0m)         │          \u001b[38;5;34m0\u001b[0m │ dense_44[\u001b[38;5;34m0\u001b[0m][\u001b[38;5;34m0\u001b[0m],   │\n",
              "│                     │                   │            │ dense_43[\u001b[38;5;34m0\u001b[0m][\u001b[38;5;34m0\u001b[0m]    │\n",
              "└─────────────────────┴───────────────────┴────────────┴───────────────────┘\n"
            ],
            "text/html": [
              "<pre style=\"white-space:pre;overflow-x:auto;line-height:normal;font-family:Menlo,'DejaVu Sans Mono',consolas,'Courier New',monospace\">┏━━━━━━━━━━━━━━━━━━━━━┳━━━━━━━━━━━━━━━━━━━┳━━━━━━━━━━━━┳━━━━━━━━━━━━━━━━━━━┓\n",
              "┃<span style=\"font-weight: bold\"> Layer (type)        </span>┃<span style=\"font-weight: bold\"> Output Shape      </span>┃<span style=\"font-weight: bold\">    Param # </span>┃<span style=\"font-weight: bold\"> Connected to      </span>┃\n",
              "┡━━━━━━━━━━━━━━━━━━━━━╇━━━━━━━━━━━━━━━━━━━╇━━━━━━━━━━━━╇━━━━━━━━━━━━━━━━━━━┩\n",
              "│ input_layer_7       │ (<span style=\"color: #00d7ff; text-decoration-color: #00d7ff\">None</span>, <span style=\"color: #00af00; text-decoration-color: #00af00\">96</span>, <span style=\"color: #00af00; text-decoration-color: #00af00\">96</span>, <span style=\"color: #00af00; text-decoration-color: #00af00\">3</span>) │          <span style=\"color: #00af00; text-decoration-color: #00af00\">0</span> │ -                 │\n",
              "│ (<span style=\"color: #0087ff; text-decoration-color: #0087ff\">InputLayer</span>)        │                   │            │                   │\n",
              "├─────────────────────┼───────────────────┼────────────┼───────────────────┤\n",
              "│ rescaling_7         │ (<span style=\"color: #00d7ff; text-decoration-color: #00d7ff\">None</span>, <span style=\"color: #00af00; text-decoration-color: #00af00\">96</span>, <span style=\"color: #00af00; text-decoration-color: #00af00\">96</span>, <span style=\"color: #00af00; text-decoration-color: #00af00\">3</span>) │          <span style=\"color: #00af00; text-decoration-color: #00af00\">0</span> │ input_layer_7[<span style=\"color: #00af00; text-decoration-color: #00af00\">0</span>]… │\n",
              "│ (<span style=\"color: #0087ff; text-decoration-color: #0087ff\">Rescaling</span>)         │                   │            │                   │\n",
              "├─────────────────────┼───────────────────┼────────────┼───────────────────┤\n",
              "│ conv2d_21 (<span style=\"color: #0087ff; text-decoration-color: #0087ff\">Conv2D</span>)  │ (<span style=\"color: #00d7ff; text-decoration-color: #00d7ff\">None</span>, <span style=\"color: #00af00; text-decoration-color: #00af00\">23</span>, <span style=\"color: #00af00; text-decoration-color: #00af00\">23</span>,    │      <span style=\"color: #00af00; text-decoration-color: #00af00\">6,176</span> │ rescaling_7[<span style=\"color: #00af00; text-decoration-color: #00af00\">0</span>][<span style=\"color: #00af00; text-decoration-color: #00af00\">0</span>] │\n",
              "│                     │ <span style=\"color: #00af00; text-decoration-color: #00af00\">32</span>)               │            │                   │\n",
              "├─────────────────────┼───────────────────┼────────────┼───────────────────┤\n",
              "│ leaky_re_lu_15      │ (<span style=\"color: #00d7ff; text-decoration-color: #00d7ff\">None</span>, <span style=\"color: #00af00; text-decoration-color: #00af00\">23</span>, <span style=\"color: #00af00; text-decoration-color: #00af00\">23</span>,    │          <span style=\"color: #00af00; text-decoration-color: #00af00\">0</span> │ conv2d_21[<span style=\"color: #00af00; text-decoration-color: #00af00\">0</span>][<span style=\"color: #00af00; text-decoration-color: #00af00\">0</span>]   │\n",
              "│ (<span style=\"color: #0087ff; text-decoration-color: #0087ff\">LeakyReLU</span>)         │ <span style=\"color: #00af00; text-decoration-color: #00af00\">32</span>)               │            │                   │\n",
              "├─────────────────────┼───────────────────┼────────────┼───────────────────┤\n",
              "│ conv2d_22 (<span style=\"color: #0087ff; text-decoration-color: #0087ff\">Conv2D</span>)  │ (<span style=\"color: #00d7ff; text-decoration-color: #00d7ff\">None</span>, <span style=\"color: #00af00; text-decoration-color: #00af00\">10</span>, <span style=\"color: #00af00; text-decoration-color: #00af00\">10</span>,    │     <span style=\"color: #00af00; text-decoration-color: #00af00\">32,832</span> │ leaky_re_lu_15[<span style=\"color: #00af00; text-decoration-color: #00af00\">0</span>… │\n",
              "│                     │ <span style=\"color: #00af00; text-decoration-color: #00af00\">64</span>)               │            │                   │\n",
              "├─────────────────────┼───────────────────┼────────────┼───────────────────┤\n",
              "│ leaky_re_lu_16      │ (<span style=\"color: #00d7ff; text-decoration-color: #00d7ff\">None</span>, <span style=\"color: #00af00; text-decoration-color: #00af00\">10</span>, <span style=\"color: #00af00; text-decoration-color: #00af00\">10</span>,    │          <span style=\"color: #00af00; text-decoration-color: #00af00\">0</span> │ conv2d_22[<span style=\"color: #00af00; text-decoration-color: #00af00\">0</span>][<span style=\"color: #00af00; text-decoration-color: #00af00\">0</span>]   │\n",
              "│ (<span style=\"color: #0087ff; text-decoration-color: #0087ff\">LeakyReLU</span>)         │ <span style=\"color: #00af00; text-decoration-color: #00af00\">64</span>)               │            │                   │\n",
              "├─────────────────────┼───────────────────┼────────────┼───────────────────┤\n",
              "│ conv2d_23 (<span style=\"color: #0087ff; text-decoration-color: #0087ff\">Conv2D</span>)  │ (<span style=\"color: #00d7ff; text-decoration-color: #00d7ff\">None</span>, <span style=\"color: #00af00; text-decoration-color: #00af00\">8</span>, <span style=\"color: #00af00; text-decoration-color: #00af00\">8</span>, <span style=\"color: #00af00; text-decoration-color: #00af00\">64</span>)  │     <span style=\"color: #00af00; text-decoration-color: #00af00\">36,928</span> │ leaky_re_lu_16[<span style=\"color: #00af00; text-decoration-color: #00af00\">0</span>… │\n",
              "├─────────────────────┼───────────────────┼────────────┼───────────────────┤\n",
              "│ leaky_re_lu_17      │ (<span style=\"color: #00d7ff; text-decoration-color: #00d7ff\">None</span>, <span style=\"color: #00af00; text-decoration-color: #00af00\">8</span>, <span style=\"color: #00af00; text-decoration-color: #00af00\">8</span>, <span style=\"color: #00af00; text-decoration-color: #00af00\">64</span>)  │          <span style=\"color: #00af00; text-decoration-color: #00af00\">0</span> │ conv2d_23[<span style=\"color: #00af00; text-decoration-color: #00af00\">0</span>][<span style=\"color: #00af00; text-decoration-color: #00af00\">0</span>]   │\n",
              "│ (<span style=\"color: #0087ff; text-decoration-color: #0087ff\">LeakyReLU</span>)         │                   │            │                   │\n",
              "├─────────────────────┼───────────────────┼────────────┼───────────────────┤\n",
              "│ flatten_7 (<span style=\"color: #0087ff; text-decoration-color: #0087ff\">Flatten</span>) │ (<span style=\"color: #00d7ff; text-decoration-color: #00d7ff\">None</span>, <span style=\"color: #00af00; text-decoration-color: #00af00\">4096</span>)      │          <span style=\"color: #00af00; text-decoration-color: #00af00\">0</span> │ leaky_re_lu_17[<span style=\"color: #00af00; text-decoration-color: #00af00\">0</span>… │\n",
              "├─────────────────────┼───────────────────┼────────────┼───────────────────┤\n",
              "│ Value_Stream_2      │ (<span style=\"color: #00d7ff; text-decoration-color: #00d7ff\">None</span>, <span style=\"color: #00af00; text-decoration-color: #00af00\">256</span>)       │  <span style=\"color: #00af00; text-decoration-color: #00af00\">1,048,832</span> │ flatten_7[<span style=\"color: #00af00; text-decoration-color: #00af00\">0</span>][<span style=\"color: #00af00; text-decoration-color: #00af00\">0</span>]   │\n",
              "│ (<span style=\"color: #0087ff; text-decoration-color: #0087ff\">Dense</span>)             │                   │            │                   │\n",
              "├─────────────────────┼───────────────────┼────────────┼───────────────────┤\n",
              "│ Advantage_Stream_2  │ (<span style=\"color: #00d7ff; text-decoration-color: #00d7ff\">None</span>, <span style=\"color: #00af00; text-decoration-color: #00af00\">256</span>)       │  <span style=\"color: #00af00; text-decoration-color: #00af00\">1,048,832</span> │ flatten_7[<span style=\"color: #00af00; text-decoration-color: #00af00\">0</span>][<span style=\"color: #00af00; text-decoration-color: #00af00\">0</span>]   │\n",
              "│ (<span style=\"color: #0087ff; text-decoration-color: #0087ff\">Dense</span>)             │                   │            │                   │\n",
              "├─────────────────────┼───────────────────┼────────────┼───────────────────┤\n",
              "│ dense_44 (<span style=\"color: #0087ff; text-decoration-color: #0087ff\">Dense</span>)    │ (<span style=\"color: #00d7ff; text-decoration-color: #00d7ff\">None</span>, <span style=\"color: #00af00; text-decoration-color: #00af00\">1</span>)         │        <span style=\"color: #00af00; text-decoration-color: #00af00\">257</span> │ Value_Stream_2[<span style=\"color: #00af00; text-decoration-color: #00af00\">0</span>… │\n",
              "├─────────────────────┼───────────────────┼────────────┼───────────────────┤\n",
              "│ dense_43 (<span style=\"color: #0087ff; text-decoration-color: #0087ff\">Dense</span>)    │ (<span style=\"color: #00d7ff; text-decoration-color: #00d7ff\">None</span>, <span style=\"color: #00af00; text-decoration-color: #00af00\">5</span>)         │      <span style=\"color: #00af00; text-decoration-color: #00af00\">1,285</span> │ Advantage_Stream… │\n",
              "├─────────────────────┼───────────────────┼────────────┼───────────────────┤\n",
              "│ lambda_5 (<span style=\"color: #0087ff; text-decoration-color: #0087ff\">Lambda</span>)   │ (<span style=\"color: #00d7ff; text-decoration-color: #00d7ff\">None</span>, <span style=\"color: #00af00; text-decoration-color: #00af00\">5</span>)         │          <span style=\"color: #00af00; text-decoration-color: #00af00\">0</span> │ dense_44[<span style=\"color: #00af00; text-decoration-color: #00af00\">0</span>][<span style=\"color: #00af00; text-decoration-color: #00af00\">0</span>],   │\n",
              "│                     │                   │            │ dense_43[<span style=\"color: #00af00; text-decoration-color: #00af00\">0</span>][<span style=\"color: #00af00; text-decoration-color: #00af00\">0</span>]    │\n",
              "└─────────────────────┴───────────────────┴────────────┴───────────────────┘\n",
              "</pre>\n"
            ]
          },
          "metadata": {}
        },
        {
          "output_type": "display_data",
          "data": {
            "text/plain": [
              "\u001b[1m Total params: \u001b[0m\u001b[38;5;34m2,175,142\u001b[0m (8.30 MB)\n"
            ],
            "text/html": [
              "<pre style=\"white-space:pre;overflow-x:auto;line-height:normal;font-family:Menlo,'DejaVu Sans Mono',consolas,'Courier New',monospace\"><span style=\"font-weight: bold\"> Total params: </span><span style=\"color: #00af00; text-decoration-color: #00af00\">2,175,142</span> (8.30 MB)\n",
              "</pre>\n"
            ]
          },
          "metadata": {}
        },
        {
          "output_type": "display_data",
          "data": {
            "text/plain": [
              "\u001b[1m Trainable params: \u001b[0m\u001b[38;5;34m2,175,142\u001b[0m (8.30 MB)\n"
            ],
            "text/html": [
              "<pre style=\"white-space:pre;overflow-x:auto;line-height:normal;font-family:Menlo,'DejaVu Sans Mono',consolas,'Courier New',monospace\"><span style=\"font-weight: bold\"> Trainable params: </span><span style=\"color: #00af00; text-decoration-color: #00af00\">2,175,142</span> (8.30 MB)\n",
              "</pre>\n"
            ]
          },
          "metadata": {}
        },
        {
          "output_type": "display_data",
          "data": {
            "text/plain": [
              "\u001b[1m Non-trainable params: \u001b[0m\u001b[38;5;34m0\u001b[0m (0.00 B)\n"
            ],
            "text/html": [
              "<pre style=\"white-space:pre;overflow-x:auto;line-height:normal;font-family:Menlo,'DejaVu Sans Mono',consolas,'Courier New',monospace\"><span style=\"font-weight: bold\"> Non-trainable params: </span><span style=\"color: #00af00; text-decoration-color: #00af00\">0</span> (0.00 B)\n",
              "</pre>\n"
            ]
          },
          "metadata": {}
        }
      ]
    },
    {
      "cell_type": "markdown",
      "source": [
        "# Implement the replay buffer"
      ],
      "metadata": {
        "id": "0y1LB_CzpPvs"
      }
    },
    {
      "cell_type": "code",
      "source": [
        "memory = deque(maxlen=10000)\n",
        "def remember(state, action, reward, next_state, done):\n",
        "    memory.append((state, action, reward, next_state, done))"
      ],
      "metadata": {
        "id": "uue648g7oZ6j"
      },
      "execution_count": 62,
      "outputs": []
    },
    {
      "cell_type": "markdown",
      "source": [
        "# Epsilon Greedy Policy (Act)"
      ],
      "metadata": {
        "id": "1ZMj9b9_ql0E"
      }
    },
    {
      "cell_type": "code",
      "source": [
        "# ==== Epsilon Greedy Policy ====\n",
        "\n",
        "# exploration rate\n",
        "epsilon = 1.0\n",
        "# minimum exploration rate\n",
        "epsilon_min = 0.01\n",
        "# dacay rate for epsilon after each episode\n",
        "epsilon_decay = 0.995\n",
        "\n",
        "# ==== Action ====\n",
        "# act(): chooses an action based on the epsilon-greedy policy.\n",
        "def act(state):\n",
        "    global epsilon\n",
        "    if np.random.rand() <= epsilon:\n",
        "        return random.randrange(action_size)\n",
        "    # Add batch dimension\n",
        "    # state: (96, 96, 3)\n",
        "    # state[np.newaxis, ...]: (1, 96, 96, 3)\n",
        "    # CNN model input: (batch_size, 96, 96, 3)\n",
        "    q_values = model.predict(state[np.newaxis, ...], verbose=0)\n",
        "    return np.argmax(q_values[0])"
      ],
      "metadata": {
        "id": "5iqlW7pWp62T"
      },
      "execution_count": 63,
      "outputs": []
    },
    {
      "cell_type": "markdown",
      "source": [
        "# Q-learning Update (Replay)\n",
        "\n",
        "我們用之前的經驗來訓練DQN。\n",
        "基本上經驗會放在一個baffur裡面。我們叫他 replay buffer。"
      ],
      "metadata": {
        "id": "Ib9yblqGrzuN"
      }
    },
    {
      "cell_type": "code",
      "source": [
        "# ==== Replay ====\n",
        "def replay(batch_size):\n",
        "  global epsilon\n",
        "\n",
        "  # From memory, we extract experience to train\n",
        "  minibatch = random.sample(memory, batch_size)\n",
        "\n",
        "  for state, action, reward, next_state, done in minibatch:\n",
        "\n",
        "    # Q-value\n",
        "    # Default: Q-value = Reward\n",
        "    # If done = terminated (no future)\n",
        "    target = reward\n",
        "\n",
        "    # Update Rule\n",
        "    # If the game keeps running, update it\n",
        "    if not done:\n",
        "      # Update Q-value based on Bellman's equation\n",
        "      # CNN Input: (1, 96, 96, 3)\n",
        "      # Predict next step's Q-value: argmax Q(s', a')\n",
        "      target = reward + gamma * np.amax(model.predict(next_state[np.newaxis, ...], verbose=0)[0])\n",
        "\n",
        "    # Update Q-value\n",
        "    # CNN Input: (1, 96, 96, 3)\n",
        "    # Note the argument in \"model.predict(state)\" is wrong.\n",
        "    # Take the prediction value of current Q(s, a)\n",
        "    target_f = model.predict(state[np.newaxis, ...], verbose=0)\n",
        "\n",
        "    # Choose an action\n",
        "    # Q(s, a) = target\n",
        "    # Update Q(s, a): Only based on the selected action\n",
        "    target_f[0][action] = target\n",
        "\n",
        "    # Train the model on the update Q-value\n",
        "    # Use target_f as label to train the model\n",
        "    # Goal: make the model predict the Q(s, a) approximates target\n",
        "    model.fit(state[np.newaxis, ...], target_f, epochs=1, verbose=0)\n",
        "\n",
        "  # Decay: epsilon decay\n",
        "  if epsilon > epsilon_min:\n",
        "    epsilon *= epsilon_decay"
      ],
      "metadata": {
        "id": "8Wel-cEgsHTB"
      },
      "execution_count": 64,
      "outputs": []
    },
    {
      "cell_type": "markdown",
      "source": [
        "# Training Loop"
      ],
      "metadata": {
        "id": "Y-hpX2zd4VBq"
      }
    },
    {
      "cell_type": "code",
      "source": [
        "env = gym.make(\"CarRacing-v3\",\n",
        "               render_mode= None,\n",
        "               lap_complete_percent=0.95,\n",
        "               domain_randomize=False,\n",
        "               continuous=False)\n",
        "\n",
        "\n",
        "# ==== Training Parameters ====\n",
        "episodes = 1000 # More is good\n",
        "batch_size = 128 # Minibatch size\n",
        "gamma = 0.95 # Discount rate (~1 future is import)\n",
        "max_step = 1000 # Max step per eposide\n",
        "best_score = -np.inf\n",
        "\n",
        "\n",
        "# ==== Training Loop ====\n",
        "for episode in range(episodes):\n",
        "  action_history = []\n",
        "  state = env.reset()\n",
        "  episode_reward =0.0\n",
        "\n",
        "  if isinstance(state, tuple):\n",
        "    state = state[0]\n",
        "\n",
        "  for time in range(max_step):\n",
        "    # Choose action using epsilon-greedy policy\n",
        "    # act() → strategy\n",
        "    action = act(state)\n",
        "    action_history.append(action)\n",
        "\n",
        "    # Take action\n",
        "    next_state, reward, terminated, truncated, _ = env.step(action)\n",
        "    done = terminated or truncated\n",
        "    # Punish the stay\n",
        "    if action == 0:\n",
        "      reward = float(reward) - 0.1\n",
        "\n",
        "    if isinstance(next_state, tuple):\n",
        "      next_state = next_state[0]\n",
        "\n",
        "    # Remember\n",
        "    # Store experience in memory\n",
        "    # remember → memorize (replay buffer)\n",
        "    remember(state, action, reward, next_state, done)\n",
        "\n",
        "    # Update state\n",
        "    state = next_state\n",
        "\n",
        "    # Record reward\n",
        "    episode_reward = episode_reward + float(reward)\n",
        "\n",
        "    # If episode ends\n",
        "    if done:\n",
        "      print(f\"Episode: {episode+1}/{episodes}, Score: {episode_reward:.2f}, Epsilon: {epsilon:.2f}\")\n",
        "      break\n",
        "\n",
        "  #Train the model using replay memory\n",
        "  replay_start = 5000  # 可調\n",
        "  if len(memory) > replay_start and len(memory) > batch_size:\n",
        "    replay(batch_size)\n",
        "\n",
        "  # Test\n",
        "  if episode % 10 == 0:\n",
        "      test_env = gym.make(\"CarRacing-v3\", render_mode=\"rgb_array\", continuous=False)\n",
        "      obs, _ = test_env.reset()\n",
        "      for _ in range(200):\n",
        "          action = np.argmax(model.predict(obs[np.newaxis, ...], verbose=0)[0])\n",
        "          obs, _, terminated, truncated, _ = test_env.step(action)\n",
        "          if terminated or truncated:\n",
        "              break\n",
        "      test_env.close()\n",
        "\n",
        "  # Update Best Score\n",
        "  if episode_reward > best_score:\n",
        "    best_score = episode_reward\n",
        "    model.save('best_model.keras')\n",
        "    print(f\"✅New Best Score {best_score}\")\n",
        "\n",
        "  print(\"Top actions in this episode:\", Counter(action_history).most_common())\n",
        "  print(\"======================================\")\n",
        "\n",
        "print(f\"Training complete after {episodes} episodes.\")\n",
        "print(f\"Best model score: {best_score:.2f}\")\n",
        "env.close()\n"
      ],
      "metadata": {
        "colab": {
          "base_uri": "https://localhost:8080/",
          "height": 1000
        },
        "id": "dZS0oVne2Sy0",
        "outputId": "5f410c98-01eb-4dce-9b7c-6ecc738a6f7b"
      },
      "execution_count": 65,
      "outputs": [
        {
          "output_type": "stream",
          "name": "stdout",
          "text": [
            "Episode: 1/1000, Score: -80.02, Epsilon: 1.00\n",
            "✅New Best Score -80.01526717557283\n",
            "Top actions in this episode: [(0, 220), (1, 208), (2, 204), (4, 202), (3, 166)]\n",
            "======================================\n",
            "Episode: 2/1000, Score: -66.56, Epsilon: 1.00\n",
            "✅New Best Score -66.55539033457325\n",
            "Top actions in this episode: [(4, 208), (3, 204), (1, 201), (2, 201), (0, 186)]\n",
            "======================================\n",
            "Episode: 3/1000, Score: -79.57, Epsilon: 1.00\n",
            "Top actions in this episode: [(4, 214), (1, 203), (3, 199), (0, 197), (2, 187)]\n",
            "======================================\n",
            "Episode: 4/1000, Score: -71.46, Epsilon: 1.00\n",
            "Top actions in this episode: [(2, 225), (1, 201), (0, 199), (3, 194), (4, 181)]\n",
            "======================================\n",
            "Episode: 5/1000, Score: -72.04, Epsilon: 1.00\n",
            "Top actions in this episode: [(4, 217), (3, 200), (1, 197), (2, 195), (0, 191)]\n",
            "======================================\n",
            "Episode: 6/1000, Score: -75.98, Epsilon: 1.00\n",
            "Top actions in this episode: [(4, 204), (0, 201), (3, 200), (2, 199), (1, 196)]\n",
            "======================================\n",
            "Episode: 7/1000, Score: -76.08, Epsilon: 0.99\n",
            "Top actions in this episode: [(2, 218), (0, 200), (4, 200), (1, 194), (3, 188)]\n",
            "======================================\n",
            "Episode: 8/1000, Score: -74.10, Epsilon: 0.99\n",
            "Top actions in this episode: [(4, 213), (2, 207), (0, 202), (3, 198), (1, 180)]\n",
            "======================================\n",
            "Episode: 9/1000, Score: -77.54, Epsilon: 0.99\n",
            "Top actions in this episode: [(4, 206), (0, 204), (3, 203), (2, 194), (1, 193)]\n",
            "======================================\n",
            "Episode: 10/1000, Score: -80.26, Epsilon: 0.98\n",
            "Top actions in this episode: [(4, 231), (3, 200), (1, 198), (2, 191), (0, 180)]\n",
            "======================================\n",
            "Episode: 11/1000, Score: -77.22, Epsilon: 0.98\n",
            "Top actions in this episode: [(1, 206), (3, 204), (0, 199), (2, 197), (np.int64(4), 194)]\n",
            "======================================\n",
            "Episode: 12/1000, Score: -81.89, Epsilon: 0.97\n",
            "Top actions in this episode: [(3, 205), (2, 204), (1, 204), (4, 200), (0, 187)]\n",
            "======================================\n",
            "Episode: 13/1000, Score: -81.90, Epsilon: 0.97\n",
            "Top actions in this episode: [(0, 215), (2, 213), (4, 193), (1, 190), (3, 189)]\n",
            "======================================\n",
            "Episode: 14/1000, Score: -74.23, Epsilon: 0.96\n",
            "Top actions in this episode: [(np.int64(2), 231), (4, 204), (3, 191), (1, 188), (0, 186)]\n",
            "======================================\n",
            "Episode: 15/1000, Score: -86.55, Epsilon: 0.96\n",
            "Top actions in this episode: [(4, 242), (1, 208), (0, 205), (3, 190), (2, 155)]\n",
            "======================================\n",
            "Episode: 16/1000, Score: -80.91, Epsilon: 0.95\n",
            "Top actions in this episode: [(4, 233), (2, 208), (1, 199), (3, 183), (0, 177)]\n",
            "======================================\n",
            "Episode: 17/1000, Score: -77.02, Epsilon: 0.95\n",
            "Top actions in this episode: [(2, 232), (4, 214), (3, 190), (1, 187), (0, 177)]\n",
            "======================================\n",
            "Episode: 18/1000, Score: -58.84, Epsilon: 0.94\n",
            "✅New Best Score -58.84488188976454\n",
            "Top actions in this episode: [(2, 237), (3, 212), (4, 189), (1, 183), (0, 179)]\n",
            "======================================\n",
            "Episode: 19/1000, Score: -62.14, Epsilon: 0.94\n",
            "Top actions in this episode: [(3, 240), (1, 211), (0, 199), (2, 185), (4, 165)]\n",
            "======================================\n",
            "Episode: 20/1000, Score: -86.57, Epsilon: 0.93\n",
            "Top actions in this episode: [(4, 243), (0, 199), (1, 190), (2, 188), (3, 180)]\n",
            "======================================\n",
            "Episode: 21/1000, Score: -68.08, Epsilon: 0.93\n",
            "Top actions in this episode: [(3, 266), (4, 197), (0, 191), (2, 174), (1, 172)]\n",
            "======================================\n",
            "Episode: 22/1000, Score: -63.53, Epsilon: 0.92\n",
            "Top actions in this episode: [(np.int64(2), 266), (3, 213), (1, 184), (0, 171), (4, 166)]\n",
            "======================================\n",
            "Episode: 23/1000, Score: -77.54, Epsilon: 0.92\n",
            "Top actions in this episode: [(np.int64(2), 274), (4, 194), (1, 186), (3, 186), (0, 160)]\n",
            "======================================\n",
            "Episode: 24/1000, Score: -72.40, Epsilon: 0.91\n",
            "Top actions in this episode: [(2, 266), (3, 209), (1, 179), (4, 179), (0, 167)]\n",
            "======================================\n",
            "Episode: 25/1000, Score: -77.45, Epsilon: 0.91\n",
            "Top actions in this episode: [(1, 265), (2, 196), (4, 186), (0, 182), (3, 171)]\n",
            "======================================\n",
            "Episode: 26/1000, Score: -76.13, Epsilon: 0.90\n",
            "Top actions in this episode: [(2, 294), (4, 185), (3, 178), (0, 178), (1, 165)]\n",
            "======================================\n",
            "Episode: 27/1000, Score: -85.41, Epsilon: 0.90\n",
            "Top actions in this episode: [(4, 261), (3, 195), (1, 189), (0, 182), (2, 173)]\n",
            "======================================\n",
            "Episode: 28/1000, Score: -83.75, Epsilon: 0.90\n",
            "Top actions in this episode: [(1, 294), (2, 197), (0, 180), (4, 177), (3, 152)]\n",
            "======================================\n",
            "Episode: 29/1000, Score: -84.52, Epsilon: 0.89\n",
            "Top actions in this episode: [(0, 280), (4, 191), (np.int64(2), 189), (3, 172), (1, 168)]\n",
            "======================================\n",
            "Episode: 30/1000, Score: -60.81, Epsilon: 0.89\n",
            "Top actions in this episode: [(3, 281), (0, 185), (1, 182), (4, 176), (2, 176)]\n",
            "======================================\n",
            "Episode: 31/1000, Score: -51.93, Epsilon: 0.88\n",
            "✅New Best Score -51.933333333334005\n",
            "Top actions in this episode: [(np.int64(3), 268), (1, 188), (np.int64(2), 187), (0, 186), (4, 171)]\n",
            "======================================\n",
            "Episode: 32/1000, Score: -76.86, Epsilon: 0.88\n",
            "Top actions in this episode: [(4, 289), (1, 195), (3, 185), (0, 167), (2, 164)]\n",
            "======================================\n",
            "Episode: 33/1000, Score: -57.29, Epsilon: 0.87\n",
            "Top actions in this episode: [(3, 286), (1, 184), (0, 179), (4, 176), (2, 175)]\n",
            "======================================\n",
            "Episode: 34/1000, Score: -71.68, Epsilon: 0.87\n",
            "Top actions in this episode: [(np.int64(3), 252), (0, 238), (4, 181), (1, 167), (2, 162)]\n",
            "======================================\n",
            "Episode: 35/1000, Score: -84.38, Epsilon: 0.86\n",
            "Top actions in this episode: [(2, 287), (4, 193), (0, 193), (1, 175), (3, 152)]\n",
            "======================================\n",
            "Episode: 36/1000, Score: -84.17, Epsilon: 0.86\n",
            "Top actions in this episode: [(2, 309), (4, 189), (3, 171), (0, 171), (1, 160)]\n",
            "======================================\n",
            "Episode: 37/1000, Score: -79.99, Epsilon: 0.86\n",
            "Top actions in this episode: [(np.int64(2), 340), (np.int64(1), 183), (3, 168), (0, 157), (4, 152)]\n",
            "======================================\n",
            "Episode: 38/1000, Score: -76.08, Epsilon: 0.85\n",
            "Top actions in this episode: [(np.int64(1), 332), (0, 176), (2, 174), (4, 163), (3, 155)]\n",
            "======================================\n",
            "Episode: 39/1000, Score: -73.39, Epsilon: 0.85\n",
            "Top actions in this episode: [(1, 341), (0, 180), (4, 166), (3, 157), (2, 156)]\n",
            "======================================\n",
            "Episode: 40/1000, Score: -90.87, Epsilon: 0.84\n",
            "Top actions in this episode: [(4, 351), (0, 179), (2, 176), (3, 159), (1, 135)]\n",
            "======================================\n",
            "Episode: 41/1000, Score: -48.50, Epsilon: 0.84\n",
            "✅New Best Score -48.495847750865615\n",
            "Top actions in this episode: [(np.int64(3), 314), (1, 192), (0, 177), (4, 159), (2, 158)]\n",
            "======================================\n",
            "Episode: 42/1000, Score: -83.77, Epsilon: 0.83\n",
            "Top actions in this episode: [(4, 364), (2, 173), (3, 172), (1, 148), (0, 143)]\n",
            "======================================\n",
            "Episode: 43/1000, Score: -81.42, Epsilon: 0.83\n"
          ]
        },
        {
          "output_type": "error",
          "ename": "KeyboardInterrupt",
          "evalue": "",
          "traceback": [
            "\u001b[0;31m---------------------------------------------------------------------------\u001b[0m",
            "\u001b[0;31mKeyboardInterrupt\u001b[0m                         Traceback (most recent call last)",
            "\u001b[0;32m<ipython-input-65-86a8307cc123>\u001b[0m in \u001b[0;36m<cell line: 0>\u001b[0;34m()\u001b[0m\n\u001b[1;32m     58\u001b[0m   \u001b[0mreplay_start\u001b[0m \u001b[0;34m=\u001b[0m \u001b[0;36m5000\u001b[0m  \u001b[0;31m# 可調\u001b[0m\u001b[0;34m\u001b[0m\u001b[0;34m\u001b[0m\u001b[0m\n\u001b[1;32m     59\u001b[0m   \u001b[0;32mif\u001b[0m \u001b[0mlen\u001b[0m\u001b[0;34m(\u001b[0m\u001b[0mmemory\u001b[0m\u001b[0;34m)\u001b[0m \u001b[0;34m>\u001b[0m \u001b[0mreplay_start\u001b[0m \u001b[0;32mand\u001b[0m \u001b[0mlen\u001b[0m\u001b[0;34m(\u001b[0m\u001b[0mmemory\u001b[0m\u001b[0;34m)\u001b[0m \u001b[0;34m>\u001b[0m \u001b[0mbatch_size\u001b[0m\u001b[0;34m:\u001b[0m\u001b[0;34m\u001b[0m\u001b[0;34m\u001b[0m\u001b[0m\n\u001b[0;32m---> 60\u001b[0;31m     \u001b[0mreplay\u001b[0m\u001b[0;34m(\u001b[0m\u001b[0mbatch_size\u001b[0m\u001b[0;34m)\u001b[0m\u001b[0;34m\u001b[0m\u001b[0;34m\u001b[0m\u001b[0m\n\u001b[0m\u001b[1;32m     61\u001b[0m \u001b[0;34m\u001b[0m\u001b[0m\n\u001b[1;32m     62\u001b[0m   \u001b[0;31m# Test\u001b[0m\u001b[0;34m\u001b[0m\u001b[0;34m\u001b[0m\u001b[0m\n",
            "\u001b[0;32m<ipython-input-64-9fa870af257d>\u001b[0m in \u001b[0;36mreplay\u001b[0;34m(batch_size)\u001b[0m\n\u001b[1;32m     35\u001b[0m     \u001b[0;31m# Use target_f as label to train the model\u001b[0m\u001b[0;34m\u001b[0m\u001b[0;34m\u001b[0m\u001b[0m\n\u001b[1;32m     36\u001b[0m     \u001b[0;31m# Goal: make the model predict the Q(s, a) approximates target\u001b[0m\u001b[0;34m\u001b[0m\u001b[0;34m\u001b[0m\u001b[0m\n\u001b[0;32m---> 37\u001b[0;31m     \u001b[0mmodel\u001b[0m\u001b[0;34m.\u001b[0m\u001b[0mfit\u001b[0m\u001b[0;34m(\u001b[0m\u001b[0mstate\u001b[0m\u001b[0;34m[\u001b[0m\u001b[0mnp\u001b[0m\u001b[0;34m.\u001b[0m\u001b[0mnewaxis\u001b[0m\u001b[0;34m,\u001b[0m \u001b[0;34m...\u001b[0m\u001b[0;34m]\u001b[0m\u001b[0;34m,\u001b[0m \u001b[0mtarget_f\u001b[0m\u001b[0;34m,\u001b[0m \u001b[0mepochs\u001b[0m\u001b[0;34m=\u001b[0m\u001b[0;36m1\u001b[0m\u001b[0;34m,\u001b[0m \u001b[0mverbose\u001b[0m\u001b[0;34m=\u001b[0m\u001b[0;36m0\u001b[0m\u001b[0;34m)\u001b[0m\u001b[0;34m\u001b[0m\u001b[0;34m\u001b[0m\u001b[0m\n\u001b[0m\u001b[1;32m     38\u001b[0m \u001b[0;34m\u001b[0m\u001b[0m\n\u001b[1;32m     39\u001b[0m   \u001b[0;31m# Decay: epsilon decay\u001b[0m\u001b[0;34m\u001b[0m\u001b[0;34m\u001b[0m\u001b[0m\n",
            "\u001b[0;32m/usr/local/lib/python3.11/dist-packages/keras/src/utils/traceback_utils.py\u001b[0m in \u001b[0;36merror_handler\u001b[0;34m(*args, **kwargs)\u001b[0m\n\u001b[1;32m    115\u001b[0m         \u001b[0mfiltered_tb\u001b[0m \u001b[0;34m=\u001b[0m \u001b[0;32mNone\u001b[0m\u001b[0;34m\u001b[0m\u001b[0;34m\u001b[0m\u001b[0m\n\u001b[1;32m    116\u001b[0m         \u001b[0;32mtry\u001b[0m\u001b[0;34m:\u001b[0m\u001b[0;34m\u001b[0m\u001b[0;34m\u001b[0m\u001b[0m\n\u001b[0;32m--> 117\u001b[0;31m             \u001b[0;32mreturn\u001b[0m \u001b[0mfn\u001b[0m\u001b[0;34m(\u001b[0m\u001b[0;34m*\u001b[0m\u001b[0margs\u001b[0m\u001b[0;34m,\u001b[0m \u001b[0;34m**\u001b[0m\u001b[0mkwargs\u001b[0m\u001b[0;34m)\u001b[0m\u001b[0;34m\u001b[0m\u001b[0;34m\u001b[0m\u001b[0m\n\u001b[0m\u001b[1;32m    118\u001b[0m         \u001b[0;32mexcept\u001b[0m \u001b[0mException\u001b[0m \u001b[0;32mas\u001b[0m \u001b[0me\u001b[0m\u001b[0;34m:\u001b[0m\u001b[0;34m\u001b[0m\u001b[0;34m\u001b[0m\u001b[0m\n\u001b[1;32m    119\u001b[0m             \u001b[0mfiltered_tb\u001b[0m \u001b[0;34m=\u001b[0m \u001b[0m_process_traceback_frames\u001b[0m\u001b[0;34m(\u001b[0m\u001b[0me\u001b[0m\u001b[0;34m.\u001b[0m\u001b[0m__traceback__\u001b[0m\u001b[0;34m)\u001b[0m\u001b[0;34m\u001b[0m\u001b[0;34m\u001b[0m\u001b[0m\n",
            "\u001b[0;32m/usr/local/lib/python3.11/dist-packages/keras/src/backend/tensorflow/trainer.py\u001b[0m in \u001b[0;36mfit\u001b[0;34m(self, x, y, batch_size, epochs, verbose, callbacks, validation_split, validation_data, shuffle, class_weight, sample_weight, initial_epoch, steps_per_epoch, validation_steps, validation_batch_size, validation_freq)\u001b[0m\n\u001b[1;32m    367\u001b[0m             \u001b[0mcallbacks\u001b[0m\u001b[0;34m.\u001b[0m\u001b[0mon_epoch_begin\u001b[0m\u001b[0;34m(\u001b[0m\u001b[0mepoch\u001b[0m\u001b[0;34m)\u001b[0m\u001b[0;34m\u001b[0m\u001b[0;34m\u001b[0m\u001b[0m\n\u001b[1;32m    368\u001b[0m             \u001b[0;32mwith\u001b[0m \u001b[0mepoch_iterator\u001b[0m\u001b[0;34m.\u001b[0m\u001b[0mcatch_stop_iteration\u001b[0m\u001b[0;34m(\u001b[0m\u001b[0;34m)\u001b[0m\u001b[0;34m:\u001b[0m\u001b[0;34m\u001b[0m\u001b[0;34m\u001b[0m\u001b[0m\n\u001b[0;32m--> 369\u001b[0;31m                 \u001b[0;32mfor\u001b[0m \u001b[0mstep\u001b[0m\u001b[0;34m,\u001b[0m \u001b[0miterator\u001b[0m \u001b[0;32min\u001b[0m \u001b[0mepoch_iterator\u001b[0m\u001b[0;34m:\u001b[0m\u001b[0;34m\u001b[0m\u001b[0;34m\u001b[0m\u001b[0m\n\u001b[0m\u001b[1;32m    370\u001b[0m                     \u001b[0mcallbacks\u001b[0m\u001b[0;34m.\u001b[0m\u001b[0mon_train_batch_begin\u001b[0m\u001b[0;34m(\u001b[0m\u001b[0mstep\u001b[0m\u001b[0;34m)\u001b[0m\u001b[0;34m\u001b[0m\u001b[0;34m\u001b[0m\u001b[0m\n\u001b[1;32m    371\u001b[0m                     \u001b[0mlogs\u001b[0m \u001b[0;34m=\u001b[0m \u001b[0mself\u001b[0m\u001b[0;34m.\u001b[0m\u001b[0mtrain_function\u001b[0m\u001b[0;34m(\u001b[0m\u001b[0miterator\u001b[0m\u001b[0;34m)\u001b[0m\u001b[0;34m\u001b[0m\u001b[0;34m\u001b[0m\u001b[0m\n",
            "\u001b[0;32m/usr/local/lib/python3.11/dist-packages/keras/src/backend/tensorflow/trainer.py\u001b[0m in \u001b[0;36m__next__\u001b[0;34m(self)\u001b[0m\n\u001b[1;32m    734\u001b[0m \u001b[0;34m\u001b[0m\u001b[0m\n\u001b[1;32m    735\u001b[0m     \u001b[0;32mdef\u001b[0m \u001b[0m__next__\u001b[0m\u001b[0;34m(\u001b[0m\u001b[0mself\u001b[0m\u001b[0;34m)\u001b[0m\u001b[0;34m:\u001b[0m\u001b[0;34m\u001b[0m\u001b[0;34m\u001b[0m\u001b[0m\n\u001b[0;32m--> 736\u001b[0;31m         \u001b[0;32mreturn\u001b[0m \u001b[0mnext\u001b[0m\u001b[0;34m(\u001b[0m\u001b[0mself\u001b[0m\u001b[0;34m.\u001b[0m\u001b[0m_epoch_iterator\u001b[0m\u001b[0;34m)\u001b[0m\u001b[0;34m\u001b[0m\u001b[0;34m\u001b[0m\u001b[0m\n\u001b[0m\u001b[1;32m    737\u001b[0m \u001b[0;34m\u001b[0m\u001b[0m\n\u001b[1;32m    738\u001b[0m     \u001b[0;34m@\u001b[0m\u001b[0mcontextlib\u001b[0m\u001b[0;34m.\u001b[0m\u001b[0mcontextmanager\u001b[0m\u001b[0;34m\u001b[0m\u001b[0;34m\u001b[0m\u001b[0m\n",
            "\u001b[0;32m/usr/local/lib/python3.11/dist-packages/keras/src/trainers/epoch_iterator.py\u001b[0m in \u001b[0;36m_enumerate_iterator\u001b[0;34m(self)\u001b[0m\n\u001b[1;32m    110\u001b[0m                 \u001b[0;32myield\u001b[0m \u001b[0mstep\u001b[0m\u001b[0;34m,\u001b[0m \u001b[0mself\u001b[0m\u001b[0;34m.\u001b[0m\u001b[0m_current_iterator\u001b[0m\u001b[0;34m\u001b[0m\u001b[0;34m\u001b[0m\u001b[0m\n\u001b[1;32m    111\u001b[0m             \u001b[0;32mif\u001b[0m \u001b[0mself\u001b[0m\u001b[0;34m.\u001b[0m\u001b[0m_num_batches\u001b[0m \u001b[0;32mand\u001b[0m \u001b[0mself\u001b[0m\u001b[0;34m.\u001b[0m\u001b[0m_steps_seen\u001b[0m \u001b[0;34m>=\u001b[0m \u001b[0mself\u001b[0m\u001b[0;34m.\u001b[0m\u001b[0m_num_batches\u001b[0m\u001b[0;34m:\u001b[0m\u001b[0;34m\u001b[0m\u001b[0;34m\u001b[0m\u001b[0m\n\u001b[0;32m--> 112\u001b[0;31m                 \u001b[0mself\u001b[0m\u001b[0;34m.\u001b[0m\u001b[0m_current_iterator\u001b[0m \u001b[0;34m=\u001b[0m \u001b[0miter\u001b[0m\u001b[0;34m(\u001b[0m\u001b[0mself\u001b[0m\u001b[0;34m.\u001b[0m\u001b[0m_get_iterator\u001b[0m\u001b[0;34m(\u001b[0m\u001b[0;34m)\u001b[0m\u001b[0;34m)\u001b[0m\u001b[0;34m\u001b[0m\u001b[0;34m\u001b[0m\u001b[0m\n\u001b[0m\u001b[1;32m    113\u001b[0m                 \u001b[0mself\u001b[0m\u001b[0;34m.\u001b[0m\u001b[0m_steps_seen\u001b[0m \u001b[0;34m=\u001b[0m \u001b[0;36m0\u001b[0m\u001b[0;34m\u001b[0m\u001b[0;34m\u001b[0m\u001b[0m\n\u001b[1;32m    114\u001b[0m         \u001b[0;32melse\u001b[0m\u001b[0;34m:\u001b[0m\u001b[0;34m\u001b[0m\u001b[0;34m\u001b[0m\u001b[0m\n",
            "\u001b[0;32m/usr/local/lib/python3.11/dist-packages/tensorflow/python/data/ops/dataset_ops.py\u001b[0m in \u001b[0;36m__iter__\u001b[0;34m(self)\u001b[0m\n\u001b[1;32m    499\u001b[0m     \u001b[0;32mif\u001b[0m \u001b[0mcontext\u001b[0m\u001b[0;34m.\u001b[0m\u001b[0mexecuting_eagerly\u001b[0m\u001b[0;34m(\u001b[0m\u001b[0;34m)\u001b[0m \u001b[0;32mor\u001b[0m \u001b[0mops\u001b[0m\u001b[0;34m.\u001b[0m\u001b[0minside_function\u001b[0m\u001b[0;34m(\u001b[0m\u001b[0;34m)\u001b[0m\u001b[0;34m:\u001b[0m\u001b[0;34m\u001b[0m\u001b[0;34m\u001b[0m\u001b[0m\n\u001b[1;32m    500\u001b[0m       \u001b[0;32mwith\u001b[0m \u001b[0mops\u001b[0m\u001b[0;34m.\u001b[0m\u001b[0mcolocate_with\u001b[0m\u001b[0;34m(\u001b[0m\u001b[0mself\u001b[0m\u001b[0;34m.\u001b[0m\u001b[0m_variant_tensor\u001b[0m\u001b[0;34m)\u001b[0m\u001b[0;34m:\u001b[0m\u001b[0;34m\u001b[0m\u001b[0;34m\u001b[0m\u001b[0m\n\u001b[0;32m--> 501\u001b[0;31m         \u001b[0;32mreturn\u001b[0m \u001b[0miterator_ops\u001b[0m\u001b[0;34m.\u001b[0m\u001b[0mOwnedIterator\u001b[0m\u001b[0;34m(\u001b[0m\u001b[0mself\u001b[0m\u001b[0;34m)\u001b[0m\u001b[0;34m\u001b[0m\u001b[0;34m\u001b[0m\u001b[0m\n\u001b[0m\u001b[1;32m    502\u001b[0m     \u001b[0;32melse\u001b[0m\u001b[0;34m:\u001b[0m\u001b[0;34m\u001b[0m\u001b[0;34m\u001b[0m\u001b[0m\n\u001b[1;32m    503\u001b[0m       raise RuntimeError(\"`tf.data.Dataset` only supports Python-style \"\n",
            "\u001b[0;32m/usr/local/lib/python3.11/dist-packages/tensorflow/python/data/ops/iterator_ops.py\u001b[0m in \u001b[0;36m__init__\u001b[0;34m(self, dataset, components, element_spec)\u001b[0m\n\u001b[1;32m    707\u001b[0m             \u001b[0;34m\"When `dataset` is provided, `element_spec` and `components` must \"\u001b[0m\u001b[0;34m\u001b[0m\u001b[0;34m\u001b[0m\u001b[0m\n\u001b[1;32m    708\u001b[0m             \"not be specified.\")\n\u001b[0;32m--> 709\u001b[0;31m       \u001b[0mself\u001b[0m\u001b[0;34m.\u001b[0m\u001b[0m_create_iterator\u001b[0m\u001b[0;34m(\u001b[0m\u001b[0mdataset\u001b[0m\u001b[0;34m)\u001b[0m\u001b[0;34m\u001b[0m\u001b[0;34m\u001b[0m\u001b[0m\n\u001b[0m\u001b[1;32m    710\u001b[0m \u001b[0;34m\u001b[0m\u001b[0m\n\u001b[1;32m    711\u001b[0m     \u001b[0mself\u001b[0m\u001b[0;34m.\u001b[0m\u001b[0m_get_next_call_count\u001b[0m \u001b[0;34m=\u001b[0m \u001b[0;36m0\u001b[0m\u001b[0;34m\u001b[0m\u001b[0;34m\u001b[0m\u001b[0m\n",
            "\u001b[0;32m/usr/local/lib/python3.11/dist-packages/tensorflow/python/data/ops/iterator_ops.py\u001b[0m in \u001b[0;36m_create_iterator\u001b[0;34m(self, dataset)\u001b[0m\n\u001b[1;32m    746\u001b[0m             self._flat_output_types)\n\u001b[1;32m    747\u001b[0m         \u001b[0mself\u001b[0m\u001b[0;34m.\u001b[0m\u001b[0m_iterator_resource\u001b[0m\u001b[0;34m.\u001b[0m\u001b[0mop\u001b[0m\u001b[0;34m.\u001b[0m\u001b[0mexperimental_set_type\u001b[0m\u001b[0;34m(\u001b[0m\u001b[0mfulltype\u001b[0m\u001b[0;34m)\u001b[0m\u001b[0;34m\u001b[0m\u001b[0;34m\u001b[0m\u001b[0m\n\u001b[0;32m--> 748\u001b[0;31m       \u001b[0mgen_dataset_ops\u001b[0m\u001b[0;34m.\u001b[0m\u001b[0mmake_iterator\u001b[0m\u001b[0;34m(\u001b[0m\u001b[0mds_variant\u001b[0m\u001b[0;34m,\u001b[0m \u001b[0mself\u001b[0m\u001b[0;34m.\u001b[0m\u001b[0m_iterator_resource\u001b[0m\u001b[0;34m)\u001b[0m\u001b[0;34m\u001b[0m\u001b[0;34m\u001b[0m\u001b[0m\n\u001b[0m\u001b[1;32m    749\u001b[0m \u001b[0;34m\u001b[0m\u001b[0m\n\u001b[1;32m    750\u001b[0m   \u001b[0;32mdef\u001b[0m \u001b[0m__iter__\u001b[0m\u001b[0;34m(\u001b[0m\u001b[0mself\u001b[0m\u001b[0;34m)\u001b[0m\u001b[0;34m:\u001b[0m\u001b[0;34m\u001b[0m\u001b[0;34m\u001b[0m\u001b[0m\n",
            "\u001b[0;32m/usr/local/lib/python3.11/dist-packages/tensorflow/python/ops/gen_dataset_ops.py\u001b[0m in \u001b[0;36mmake_iterator\u001b[0;34m(dataset, iterator, name)\u001b[0m\n\u001b[1;32m   3476\u001b[0m   \u001b[0;32mif\u001b[0m \u001b[0mtld\u001b[0m\u001b[0;34m.\u001b[0m\u001b[0mis_eager\u001b[0m\u001b[0;34m:\u001b[0m\u001b[0;34m\u001b[0m\u001b[0;34m\u001b[0m\u001b[0m\n\u001b[1;32m   3477\u001b[0m     \u001b[0;32mtry\u001b[0m\u001b[0;34m:\u001b[0m\u001b[0;34m\u001b[0m\u001b[0;34m\u001b[0m\u001b[0m\n\u001b[0;32m-> 3478\u001b[0;31m       _result = pywrap_tfe.TFE_Py_FastPathExecute(\n\u001b[0m\u001b[1;32m   3479\u001b[0m         _ctx, \"MakeIterator\", name, dataset, iterator)\n\u001b[1;32m   3480\u001b[0m       \u001b[0;32mreturn\u001b[0m \u001b[0m_result\u001b[0m\u001b[0;34m\u001b[0m\u001b[0;34m\u001b[0m\u001b[0m\n",
            "\u001b[0;31mKeyboardInterrupt\u001b[0m: "
          ]
        }
      ]
    },
    {
      "cell_type": "markdown",
      "source": [
        "# Evaluation"
      ],
      "metadata": {
        "id": "JpXyhzdQBWWv"
      }
    },
    {
      "cell_type": "code",
      "source": [
        "# Re-initialize the environment for evaluation\n",
        "# Use the same parameters as the training environment\n",
        "env = gym.make(\"CarRacing-v3\",\n",
        "               render_mode= None,\n",
        "               lap_complete_percent=0.95,\n",
        "               domain_randomize=False,\n",
        "               continuous=False)\n",
        "\n",
        "# ==== Evaluation ====\n",
        "evaluation_episodes = 10 # Number of evaluation\n",
        "score = []\n",
        "\n",
        "for episode in range(evaluation_episodes):\n",
        "  state = env.reset()\n",
        "  if isinstance(state, tuple):\n",
        "    state = state[0]\n",
        "\n",
        "  total_reward = 0 # Track total reward per episode\n",
        "\n",
        "\n",
        "  for time in range(max_step):\n",
        "    action = np.argmax(model.predict(state[np.newaxis, ...], verbose=0)[0])\n",
        "    next_state, reward, terminated, truncated, _ = env.step(action)\n",
        "\n",
        "    if isinstance(next_state, tuple):\n",
        "      next_state = next_state[0]\n",
        "\n",
        "    done = terminated or truncated\n",
        "    state = next_state\n",
        "    total_reward = total_reward + float(reward)\n",
        "\n",
        "    if done:\n",
        "      break\n",
        "  score.append(total_reward)\n",
        "  print(f\"Episode: {episode+1}/{evaluation_episodes}, Score: {total_reward:.2f}\")\n",
        "\n",
        "# ==== Scores ====\n",
        "average_score = np.mean(score)\n",
        "max_score = np.max(score)\n",
        "min_score = np.min(score)\n",
        "std_score = np.std(score)\n",
        "\n",
        "print(f'Evaluation complete after {evaluation_episodes}')\n",
        "print(f\"Average Score: {average_score:.2f}\")\n",
        "print(f\"Max Score: {max_score:.2f}\")\n",
        "print(f\"Min Score: {min_score:.2f}\")\n",
        "print(f\"Std Score: {std_score:.2f}\")\n",
        "\n",
        "# ==== Visualization ====\n",
        "plt.figure(figsize=(12, 8))\n",
        "plt.plot(score, marker='o')\n",
        "plt.title(\"Evaluation Rewards per Episode\")\n",
        "plt.xlabel(\"Episode\")\n",
        "plt.ylabel(\"Total Reward\")\n",
        "plt.grid()\n",
        "plt.show()\n",
        "\n",
        "env.close()\n"
      ],
      "metadata": {
        "colab": {
          "base_uri": "https://localhost:8080/",
          "height": 992
        },
        "id": "En9c_L2G6xXb",
        "outputId": "03c4e004-fc84-4103-be65-d51739799ab2"
      },
      "execution_count": 12,
      "outputs": [
        {
          "output_type": "stream",
          "name": "stdout",
          "text": [
            "Episode: 1/10, Score: -12.48\n",
            "Episode: 2/10, Score: -11.56\n",
            "Episode: 3/10, Score: -13.46\n",
            "Episode: 4/10, Score: -12.81\n",
            "Episode: 5/10, Score: -13.24\n",
            "Episode: 6/10, Score: -12.91\n",
            "Episode: 7/10, Score: -14.35\n",
            "Episode: 8/10, Score: -13.24\n",
            "Episode: 9/10, Score: -13.67\n",
            "Episode: 10/10, Score: -13.69\n",
            "Evaluation complete after 10\n",
            "Average Score: -13.14\n",
            "Max Score: -11.56\n",
            "Min Score: -14.35\n",
            "Std Score: 0.73\n"
          ]
        },
        {
          "output_type": "display_data",
          "data": {
            "text/plain": [
              "<Figure size 1200x800 with 1 Axes>"
            ],
            "image/png": "[encoded data removed]"
          },
          "metadata": {}
        }
      ]
    },
    {
      "cell_type": "markdown",
      "source": [
        "## Video\n",
        "\n",
        "⬇️ 我們視覺化車車！"
      ],
      "metadata": {
        "id": "UwKwIWAAHuPN"
      }
    },
    {
      "cell_type": "code",
      "source": [
        "def record_video(model, env, episodes=1, max_steps=200, output_path=\"car_racing_eval.mp4\"):\n",
        "    frames = []\n",
        "\n",
        "    for ep in range(episodes):\n",
        "        state, _ = env.reset()\n",
        "        total_reward = 0\n",
        "        done = False\n",
        "\n",
        "        for t in range(max_steps):\n",
        "            # Get image frame\n",
        "            frame = env.render()\n",
        "            frames.append(frame)\n",
        "\n",
        "            # Predict action\n",
        "            q_values = model.predict(state[np.newaxis, ...], verbose=0)[0]\n",
        "            action = np.argmax(q_values)\n",
        "            next_state, reward, terminated, truncated, _ = env.step(action)\n",
        "            done = terminated or truncated\n",
        "\n",
        "            state = next_state\n",
        "            total_reward += reward\n",
        "\n",
        "            if done:\n",
        "                break\n",
        "\n",
        "        print(f\"🎬 Episode {ep+1} done. Total reward: {total_reward:.2f}\")\n",
        "\n",
        "    # Save video\n",
        "    print(f\"Saving video to {output_path}\")\n",
        "    imageio.mimsave(output_path, frames, fps=30)\n",
        "    print(\"Video saved.\")"
      ],
      "metadata": {
        "id": "wunsN_BZHyd_"
      },
      "execution_count": 13,
      "outputs": []
    },
    {
      "cell_type": "code",
      "source": [
        "# Re-initialize the environment for evaluation\n",
        "# Use the same parameters as the training environment\n",
        "env = gym.make(\"CarRacing-v3\",\n",
        "               render_mode=\"rgb_array\",\n",
        "               lap_complete_percent=0.95,\n",
        "               domain_randomize=False,\n",
        "               continuous=False)\n",
        "\n",
        "record_video(model, env, episodes=1, max_steps=300, output_path=\"car_ai_demo.mp4\")"
      ],
      "metadata": {
        "colab": {
          "base_uri": "https://localhost:8080/"
        },
        "id": "qGVn3gGiHjOU",
        "outputId": "59cee847-4966-42ec-cea2-abf71bd3cbf4"
      },
      "execution_count": 16,
      "outputs": [
        {
          "output_type": "stream",
          "name": "stdout",
          "text": [
            "🎬 Episode 1 done. Total reward: -23.59\n",
            "Saving video to car_ai_demo.mp4\n"
          ]
        },
        {
          "output_type": "stream",
          "name": "stderr",
          "text": [
            "WARNING:imageio_ffmpeg:IMAGEIO FFMPEG_WRITER WARNING: input image is not divisible by macro_block_size=16, resizing from (600, 400) to (608, 400) to ensure video compatibility with most codecs and players. To prevent resizing, make your input image divisible by the macro_block_size or set the macro_block_size to 1 (risking incompatibility).\n"
          ]
        },
        {
          "output_type": "stream",
          "name": "stdout",
          "text": [
            "Video saved.\n"
          ]
        }
      ]
    },
    {
      "cell_type": "code",
      "source": [],
      "metadata": {
        "id": "PQLFqZyrJBll"
      },
      "execution_count": null,
      "outputs": []
    }
  ]
}